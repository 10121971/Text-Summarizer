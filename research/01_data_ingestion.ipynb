{
 "cells": [
  {
   "cell_type": "code",
   "execution_count": 2,
   "metadata": {},
   "outputs": [
    {
     "name": "stdout",
     "output_type": "stream",
     "text": [
      "hi\n"
     ]
    }
   ],
   "source": [
    "print('hi')"
   ]
  },
  {
   "cell_type": "code",
   "execution_count": 3,
   "metadata": {},
   "outputs": [],
   "source": [
    "import os"
   ]
  },
  {
   "cell_type": "code",
   "execution_count": 4,
   "metadata": {},
   "outputs": [
    {
     "data": {
      "text/plain": [
       "'c:\\\\Users\\\\Bhavya Prakash\\\\OneDrive\\\\Desktop\\\\Text summarizer\\\\Text-Summarizer\\\\research'"
      ]
     },
     "execution_count": 4,
     "metadata": {},
     "output_type": "execute_result"
    }
   ],
   "source": [
    "%pwd"
   ]
  },
  {
   "cell_type": "code",
   "execution_count": 5,
   "metadata": {},
   "outputs": [],
   "source": [
    "os.chdir('../')"
   ]
  },
  {
   "cell_type": "code",
   "execution_count": 6,
   "metadata": {},
   "outputs": [],
   "source": [
    "from dataclasses import dataclass"
   ]
  },
  {
   "cell_type": "code",
   "execution_count": 7,
   "metadata": {},
   "outputs": [],
   "source": [
    "from pathlib import Path\n",
    "\n",
    "@dataclass(frozen=True)\n",
    "class DataIngestionConfig:\n",
    "    root_dir: Path\n",
    "    source_URL:str\n",
    "    local_data_file: Path\n",
    "    unzip_dir: Path\n",
    "    "
   ]
  },
  {
   "cell_type": "code",
   "execution_count": 8,
   "metadata": {},
   "outputs": [],
   "source": [
    "from text_summarizer.constants import *\n",
    "from text_summarizer.utils.common import read_yaml, create_directories"
   ]
  },
  {
   "cell_type": "code",
   "execution_count": 9,
   "metadata": {},
   "outputs": [],
   "source": [
    "class ConfigurationManager:\n",
    "    def __init__(\n",
    "        self,\n",
    "        config_filepath = CONFIG_FILE_PATH,\n",
    "        params_filepath = PARAMS_FILE_PATH):\n",
    "\n",
    "        self.config = read_yaml(config_filepath)\n",
    "        self.params = read_yaml(params_filepath)\n",
    "\n",
    "        create_directories([self.config.artifacts_root])\n",
    "\n",
    "    \n",
    "\n",
    "    def get_data_ingestion_config(self) -> DataIngestionConfig:\n",
    "        config = self.config.data_ingestion\n",
    "\n",
    "        create_directories([config.root_dir])\n",
    "\n",
    "        data_ingestion_config = DataIngestionConfig(\n",
    "            root_dir=config.root_dir,\n",
    "            source_URL=config.source_URL,\n",
    "            local_data_file=config.local_data_file,\n",
    "            unzip_dir=config.unzip_dir \n",
    "        )\n",
    "\n",
    "        return data_ingestion_config\n",
    "        \n"
   ]
  },
  {
   "cell_type": "code",
   "execution_count": null,
   "metadata": {},
   "outputs": [],
   "source": []
  },
  {
   "cell_type": "code",
   "execution_count": 10,
   "metadata": {},
   "outputs": [],
   "source": [
    "import os\n",
    "import urllib.request as request\n",
    "#import zipfile\n",
    "from text_summarizer.logging import logger\n",
    "from text_summarizer.utils.common import get_size\n",
    "#import zipfile36 as zipfile\n",
    "import py7zr"
   ]
  },
  {
   "cell_type": "code",
   "execution_count": 11,
   "metadata": {},
   "outputs": [],
   "source": [
    "class DataIngestion:\n",
    "    def __init__(self, config: DataIngestionConfig):\n",
    "        self.config = config\n",
    "\n",
    "    def download_file(self):\n",
    "        if not os.path.exists(self.config.local_data_file):\n",
    "            filename, headers = request.urlretrieve(\n",
    "                url = self.config.source_URL,\n",
    "                filename = self.config.local_data_file\n",
    "            )\n",
    "            logger.info(f\"{filename} download! with following info: \\n{headers}\")\n",
    "        else:\n",
    "            logger.info(f\"File already exists of size: {get_size(Path(self.config.local_data_file))}\")  \n",
    "\n",
    "    def extract_zip_file(self):\n",
    "        \"\"\"\n",
    "        zip_file_path: str\n",
    "        Extracts the zip file into the data directory\n",
    "        Function returns None\n",
    "        \"\"\"\n",
    "        unzip_path = self.config.unzip_dir\n",
    "        os.makedirs(unzip_path, exist_ok=True)\n",
    "        \n",
    "        # zip_file_path = \"artifacts/data_ingestion/data.zip\"  # Replace with the actual path to your ZIP file\n",
    "\n",
    "        \n",
    "        with py7zr.SevenZipFile(self.config.local_data_file, 'r') as zip_ref:\n",
    "            zip_ref.extractall(unzip_path)  # Replace \"destination_folder\" with the folder where you want to extract the files\n",
    "        # except py7zr.exceptions.Bad7zFile:\n",
    "        #     print(\"The file is not a valid 7z archive.\")\n",
    "        # except FileNotFoundError:\n",
    "        #     print(f\"The file '{zip_file_path}' does not exist.\")\n",
    "\n",
    "        # with zipfile.ZipFile(self.config.local_data_file, 'r') as zip_ref:\n",
    "        #     zip_ref.extractall(unzip_path)\n",
    " "
   ]
  },
  {
   "cell_type": "code",
   "execution_count": 12,
   "metadata": {},
   "outputs": [
    {
     "name": "stdout",
     "output_type": "stream",
     "text": [
      "[2023-09-04 19:48:14,722: INFO: common: yaml file:config\\config.yaml loaded successfully]\n",
      "[2023-09-04 19:48:14,741: INFO: common: yaml file:params.yaml loaded successfully]\n",
      "[2023-09-04 19:48:14,743: INFO: common: created directory at: artifacts]\n",
      "[2023-09-04 19:48:14,745: INFO: common: created directory at: artifacts/data_ingestion]\n",
      "[2023-09-04 19:48:21,924: INFO: 1267882926: artifacts/data_ingestion/data.zip download! with following info: \n",
      "Connection: close\n",
      "Content-Length: 7903594\n",
      "Cache-Control: max-age=300\n",
      "Content-Security-Policy: default-src 'none'; style-src 'unsafe-inline'; sandbox\n",
      "Content-Type: application/zip\n",
      "ETag: \"dbc016a060da18070593b83afff580c9b300f0b6ea4147a7988433e04df246ca\"\n",
      "Strict-Transport-Security: max-age=31536000\n",
      "X-Content-Type-Options: nosniff\n",
      "X-Frame-Options: deny\n",
      "X-XSS-Protection: 1; mode=block\n",
      "X-GitHub-Request-Id: BAA6:208DE3:4F64:67E7:64F5E726\n",
      "Accept-Ranges: bytes\n",
      "Date: Mon, 04 Sep 2023 14:18:20 GMT\n",
      "Via: 1.1 varnish\n",
      "X-Served-By: cache-del21725-DEL\n",
      "X-Cache: MISS\n",
      "X-Cache-Hits: 0\n",
      "X-Timer: S1693837096.799875,VS0,VE5163\n",
      "Vary: Authorization,Accept-Encoding,Origin\n",
      "Access-Control-Allow-Origin: *\n",
      "Cross-Origin-Resource-Policy: cross-origin\n",
      "X-Fastly-Request-ID: 2c263ff9b9fbc4a81e868f36834cd92489208182\n",
      "Expires: Mon, 04 Sep 2023 14:23:20 GMT\n",
      "Source-Age: 3\n",
      "\n",
      "]\n"
     ]
    },
    {
     "ename": "Bad7zFile",
     "evalue": "not a 7z file",
     "output_type": "error",
     "traceback": [
      "\u001b[1;31m---------------------------------------------------------------------------\u001b[0m",
      "\u001b[1;31mBad7zFile\u001b[0m                                 Traceback (most recent call last)",
      "\u001b[1;32mc:\\Users\\Bhavya Prakash\\OneDrive\\Desktop\\Text summarizer\\Text-Summarizer\\research\\01_data_ingestion.ipynb Cell 12\u001b[0m in \u001b[0;36m8\n\u001b[0;32m      <a href='vscode-notebook-cell:/c%3A/Users/Bhavya%20Prakash/OneDrive/Desktop/Text%20summarizer/Text-Summarizer/research/01_data_ingestion.ipynb#X14sZmlsZQ%3D%3D?line=5'>6</a>\u001b[0m     data_ingestion\u001b[39m.\u001b[39mextract_zip_file()\n\u001b[0;32m      <a href='vscode-notebook-cell:/c%3A/Users/Bhavya%20Prakash/OneDrive/Desktop/Text%20summarizer/Text-Summarizer/research/01_data_ingestion.ipynb#X14sZmlsZQ%3D%3D?line=6'>7</a>\u001b[0m \u001b[39mexcept\u001b[39;00m \u001b[39mException\u001b[39;00m \u001b[39mas\u001b[39;00m e:\n\u001b[1;32m----> <a href='vscode-notebook-cell:/c%3A/Users/Bhavya%20Prakash/OneDrive/Desktop/Text%20summarizer/Text-Summarizer/research/01_data_ingestion.ipynb#X14sZmlsZQ%3D%3D?line=7'>8</a>\u001b[0m     \u001b[39mraise\u001b[39;00m e\n",
      "\u001b[1;32mc:\\Users\\Bhavya Prakash\\OneDrive\\Desktop\\Text summarizer\\Text-Summarizer\\research\\01_data_ingestion.ipynb Cell 12\u001b[0m in \u001b[0;36m6\n\u001b[0;32m      <a href='vscode-notebook-cell:/c%3A/Users/Bhavya%20Prakash/OneDrive/Desktop/Text%20summarizer/Text-Summarizer/research/01_data_ingestion.ipynb#X14sZmlsZQ%3D%3D?line=3'>4</a>\u001b[0m     data_ingestion \u001b[39m=\u001b[39m DataIngestion(config\u001b[39m=\u001b[39mdata_ingestion_config)\n\u001b[0;32m      <a href='vscode-notebook-cell:/c%3A/Users/Bhavya%20Prakash/OneDrive/Desktop/Text%20summarizer/Text-Summarizer/research/01_data_ingestion.ipynb#X14sZmlsZQ%3D%3D?line=4'>5</a>\u001b[0m     data_ingestion\u001b[39m.\u001b[39mdownload_file()\n\u001b[1;32m----> <a href='vscode-notebook-cell:/c%3A/Users/Bhavya%20Prakash/OneDrive/Desktop/Text%20summarizer/Text-Summarizer/research/01_data_ingestion.ipynb#X14sZmlsZQ%3D%3D?line=5'>6</a>\u001b[0m     data_ingestion\u001b[39m.\u001b[39;49mextract_zip_file()\n\u001b[0;32m      <a href='vscode-notebook-cell:/c%3A/Users/Bhavya%20Prakash/OneDrive/Desktop/Text%20summarizer/Text-Summarizer/research/01_data_ingestion.ipynb#X14sZmlsZQ%3D%3D?line=6'>7</a>\u001b[0m \u001b[39mexcept\u001b[39;00m \u001b[39mException\u001b[39;00m \u001b[39mas\u001b[39;00m e:\n\u001b[0;32m      <a href='vscode-notebook-cell:/c%3A/Users/Bhavya%20Prakash/OneDrive/Desktop/Text%20summarizer/Text-Summarizer/research/01_data_ingestion.ipynb#X14sZmlsZQ%3D%3D?line=7'>8</a>\u001b[0m     \u001b[39mraise\u001b[39;00m e\n",
      "\u001b[1;32mc:\\Users\\Bhavya Prakash\\OneDrive\\Desktop\\Text summarizer\\Text-Summarizer\\research\\01_data_ingestion.ipynb Cell 12\u001b[0m in \u001b[0;36m2\n\u001b[0;32m     <a href='vscode-notebook-cell:/c%3A/Users/Bhavya%20Prakash/OneDrive/Desktop/Text%20summarizer/Text-Summarizer/research/01_data_ingestion.ipynb#X14sZmlsZQ%3D%3D?line=21'>22</a>\u001b[0m os\u001b[39m.\u001b[39mmakedirs(unzip_path, exist_ok\u001b[39m=\u001b[39m\u001b[39mTrue\u001b[39;00m)\n\u001b[0;32m     <a href='vscode-notebook-cell:/c%3A/Users/Bhavya%20Prakash/OneDrive/Desktop/Text%20summarizer/Text-Summarizer/research/01_data_ingestion.ipynb#X14sZmlsZQ%3D%3D?line=23'>24</a>\u001b[0m \u001b[39m# zip_file_path = \"artifacts/data_ingestion/data.zip\"  # Replace with the actual path to your ZIP file\u001b[39;00m\n\u001b[1;32m---> <a href='vscode-notebook-cell:/c%3A/Users/Bhavya%20Prakash/OneDrive/Desktop/Text%20summarizer/Text-Summarizer/research/01_data_ingestion.ipynb#X14sZmlsZQ%3D%3D?line=26'>27</a>\u001b[0m \u001b[39mwith\u001b[39;00m py7zr\u001b[39m.\u001b[39;49mSevenZipFile(\u001b[39mself\u001b[39;49m\u001b[39m.\u001b[39;49mconfig\u001b[39m.\u001b[39;49mlocal_data_file, \u001b[39m'\u001b[39;49m\u001b[39mr\u001b[39;49m\u001b[39m'\u001b[39;49m) \u001b[39mas\u001b[39;00m zip_ref:\n\u001b[0;32m     <a href='vscode-notebook-cell:/c%3A/Users/Bhavya%20Prakash/OneDrive/Desktop/Text%20summarizer/Text-Summarizer/research/01_data_ingestion.ipynb#X14sZmlsZQ%3D%3D?line=27'>28</a>\u001b[0m     zip_ref\u001b[39m.\u001b[39mextractall(unzip_path)\n",
      "File \u001b[1;32mc:\\Users\\Bhavya Prakash\\AppData\\Local\\Programs\\Python\\Python310\\lib\\site-packages\\py7zr\\py7zr.py:407\u001b[0m, in \u001b[0;36mSevenZipFile.__init__\u001b[1;34m(self, file, mode, filters, dereference, password, header_encryption, blocksize, mp)\u001b[0m\n\u001b[0;32m    405\u001b[0m \u001b[39mexcept\u001b[39;00m \u001b[39mException\u001b[39;00m \u001b[39mas\u001b[39;00m e:\n\u001b[0;32m    406\u001b[0m     \u001b[39mself\u001b[39m\u001b[39m.\u001b[39m_fpclose()\n\u001b[1;32m--> 407\u001b[0m     \u001b[39mraise\u001b[39;00m e\n\u001b[0;32m    408\u001b[0m \u001b[39mself\u001b[39m\u001b[39m.\u001b[39m_dict: Dict[\u001b[39mstr\u001b[39m, IO[Any]] \u001b[39m=\u001b[39m {}\n\u001b[0;32m    409\u001b[0m \u001b[39mself\u001b[39m\u001b[39m.\u001b[39mdereference \u001b[39m=\u001b[39m dereference\n",
      "File \u001b[1;32mc:\\Users\\Bhavya Prakash\\AppData\\Local\\Programs\\Python\\Python310\\lib\\site-packages\\py7zr\\py7zr.py:393\u001b[0m, in \u001b[0;36mSevenZipFile.__init__\u001b[1;34m(self, file, mode, filters, dereference, password, header_encryption, blocksize, mp)\u001b[0m\n\u001b[0;32m    391\u001b[0m \u001b[39mtry\u001b[39;00m:\n\u001b[0;32m    392\u001b[0m     \u001b[39mif\u001b[39;00m mode \u001b[39m==\u001b[39m \u001b[39m\"\u001b[39m\u001b[39mr\u001b[39m\u001b[39m\"\u001b[39m:\n\u001b[1;32m--> 393\u001b[0m         \u001b[39mself\u001b[39;49m\u001b[39m.\u001b[39;49m_real_get_contents(password)\n\u001b[0;32m    394\u001b[0m         \u001b[39mself\u001b[39m\u001b[39m.\u001b[39mfp\u001b[39m.\u001b[39mseek(\u001b[39mself\u001b[39m\u001b[39m.\u001b[39mafterheader)  \u001b[39m# seek into start of payload and prepare worker to extract\u001b[39;00m\n\u001b[0;32m    395\u001b[0m         \u001b[39mself\u001b[39m\u001b[39m.\u001b[39mworker \u001b[39m=\u001b[39m Worker(\u001b[39mself\u001b[39m\u001b[39m.\u001b[39mfiles, \u001b[39mself\u001b[39m\u001b[39m.\u001b[39mafterheader, \u001b[39mself\u001b[39m\u001b[39m.\u001b[39mheader, \u001b[39mself\u001b[39m\u001b[39m.\u001b[39mmp)\n",
      "File \u001b[1;32mc:\\Users\\Bhavya Prakash\\AppData\\Local\\Programs\\Python\\Python310\\lib\\site-packages\\py7zr\\py7zr.py:427\u001b[0m, in \u001b[0;36mSevenZipFile._real_get_contents\u001b[1;34m(self, password)\u001b[0m\n\u001b[0;32m    425\u001b[0m \u001b[39mdef\u001b[39;00m \u001b[39m_real_get_contents\u001b[39m(\u001b[39mself\u001b[39m, password) \u001b[39m-\u001b[39m\u001b[39m>\u001b[39m \u001b[39mNone\u001b[39;00m:\n\u001b[0;32m    426\u001b[0m     \u001b[39mif\u001b[39;00m \u001b[39mnot\u001b[39;00m \u001b[39mself\u001b[39m\u001b[39m.\u001b[39m_check_7zfile(\u001b[39mself\u001b[39m\u001b[39m.\u001b[39mfp):\n\u001b[1;32m--> 427\u001b[0m         \u001b[39mraise\u001b[39;00m Bad7zFile(\u001b[39m\"\u001b[39m\u001b[39mnot a 7z file\u001b[39m\u001b[39m\"\u001b[39m)\n\u001b[0;32m    428\u001b[0m     \u001b[39mself\u001b[39m\u001b[39m.\u001b[39msig_header \u001b[39m=\u001b[39m SignatureHeader\u001b[39m.\u001b[39mretrieve(\u001b[39mself\u001b[39m\u001b[39m.\u001b[39mfp)\n\u001b[0;32m    429\u001b[0m     \u001b[39mself\u001b[39m\u001b[39m.\u001b[39mafterheader: \u001b[39mint\u001b[39m \u001b[39m=\u001b[39m \u001b[39mself\u001b[39m\u001b[39m.\u001b[39mfp\u001b[39m.\u001b[39mtell()\n",
      "\u001b[1;31mBad7zFile\u001b[0m: not a 7z file"
     ]
    }
   ],
   "source": [
    "try:\n",
    "    config = ConfigurationManager()\n",
    "    data_ingestion_config = config.get_data_ingestion_config()\n",
    "    data_ingestion = DataIngestion(config=data_ingestion_config)\n",
    "    data_ingestion.download_file()\n",
    "    data_ingestion.extract_zip_file()\n",
    "except Exception as e:\n",
    "    raise e"
   ]
  },
  {
   "cell_type": "code",
   "execution_count": null,
   "metadata": {},
   "outputs": [],
   "source": []
  },
  {
   "cell_type": "code",
   "execution_count": null,
   "metadata": {},
   "outputs": [],
   "source": []
  },
  {
   "cell_type": "code",
   "execution_count": null,
   "metadata": {},
   "outputs": [],
   "source": []
  }
 ],
 "metadata": {
  "kernelspec": {
   "display_name": "Python 3",
   "language": "python",
   "name": "python3"
  },
  "language_info": {
   "codemirror_mode": {
    "name": "ipython",
    "version": 3
   },
   "file_extension": ".py",
   "mimetype": "text/x-python",
   "name": "python",
   "nbconvert_exporter": "python",
   "pygments_lexer": "ipython3",
   "version": "3.10.4"
  },
  "orig_nbformat": 4
 },
 "nbformat": 4,
 "nbformat_minor": 2
}
